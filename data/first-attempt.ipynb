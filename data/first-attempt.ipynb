{
 "cells": [
  {
   "cell_type": "code",
   "execution_count": 56,
   "metadata": {},
   "outputs": [],
   "source": [
    "# Import libraries\n",
    "from __future__ import print_function\n",
    "import matplotlib\n",
    "%matplotlib inline\n",
    "import matplotlib.pyplot as plt\n",
    "import numpy as np\n",
    "import pandas as pd\n",
    "import torch\n",
    "import torch.nn as nn\n",
    "from torch.nn.functional import sigmoid, relu\n",
    "from scipy.cluster.hierarchy import dendrogram, linkage"
   ]
  },
  {
   "cell_type": "code",
   "execution_count": 57,
   "metadata": {},
   "outputs": [],
   "source": [
    "df = pd.read_csv('featurized_condensed.csv')"
   ]
  },
  {
   "cell_type": "code",
   "execution_count": 58,
   "metadata": {},
   "outputs": [],
   "source": [
    "df = df.drop(columns=['Unnamed: 0', 'Unnamed: 10', 'Ingredients'])"
   ]
  },
  {
   "cell_type": "code",
   "execution_count": 59,
   "metadata": {},
   "outputs": [],
   "source": [
    "df = df.set_index('ID')"
   ]
  },
  {
   "cell_type": "code",
   "execution_count": 60,
   "metadata": {},
   "outputs": [],
   "source": [
    "cuisines = list(set(df['Cuisine']))"
   ]
  },
  {
   "cell_type": "code",
   "execution_count": 61,
   "metadata": {},
   "outputs": [],
   "source": [
    "binary_cuisines = {}\n",
    "counter = 0\n",
    "for i in cuisines:\n",
    "    length = np.zeros(len(cuisines))\n",
    "    length[counter] = 1\n",
    "    length = length.tolist()\n",
    "    counter += 1\n",
    "    binary_cuisines[i] = length"
   ]
  },
  {
   "cell_type": "code",
   "execution_count": 62,
   "metadata": {},
   "outputs": [],
   "source": [
    "lists = {}\n",
    "for i in df.iterrows():\n",
    "    i[1][0] = binary_cuisines[i[1][0]]\n",
    "    lists[i[0]] = i[1][0]+i[1][1:].get_values().tolist()"
   ]
  },
  {
   "cell_type": "code",
   "execution_count": 63,
   "metadata": {},
   "outputs": [
    {
     "name": "stdout",
     "output_type": "stream",
     "text": [
      "20\n",
      "['thai' 'korean' 'japanese' 'cajun_creole' 'italian' 'indian' 'vietnamese'\n",
      " 'jamaican' 'british' 'mexican' 'southern_us' 'chinese' 'greek' 'filipino'\n",
      " 'moroccan' 'brazilian' 'irish' 'french' 'spanish' 'russian']\n",
      "6\n",
      "['Vegeterian (Y/N)' 'Vegan (Y/N)' 'Dessert (Y/N)' 'Spicy (Y/N)'\n",
      " 'Drink (Y/N)' 'Alcohol (Y/N)']\n",
      "395\n",
      "Index(['paprika', 'quail eggs', 'sweet chili sauce', 'half & half',\n",
      "       'allspice berries', 'carrots', 'peppercorns', 'cardamom',\n",
      "       'vanilla ice cream', 'red chili',\n",
      "       ...\n",
      "       'paneer', 'cheese', 'onion powder', 'cauliflower', 'lemon juice',\n",
      "       'vinegar', 'tumeric', 'back bacon rashers', 'plum tomatoes', 'beets'],\n",
      "      dtype='object', length=395)\n"
     ]
    }
   ],
   "source": [
    "ncuisines = len(df['Cuisine'].unique())\n",
    "print(ncuisines)\n",
    "print(df['Cuisine'].unique())\n",
    "nattributes = len(df.columns[1:7])\n",
    "print(nattributes)\n",
    "print(np.array(df.columns[1:7]))\n",
    "ningredients = len(df.columns[7:])\n",
    "print(ningredients)\n",
    "print(df.columns[7:])"
   ]
  },
  {
   "cell_type": "code",
   "execution_count": 98,
   "metadata": {},
   "outputs": [],
   "source": [
    "cuisine_names = np.array(df['Cuisine'].unique()).reshape(-1, 1)\n",
    "descriptor_names = np.array(df.columns[1:7]).reshape(-1, 1)\n",
    "\n",
    "item_names = np.append(cuisine_names, descriptor_names).reshape(-1, 1)"
   ]
  },
  {
   "cell_type": "code",
   "execution_count": 64,
   "metadata": {},
   "outputs": [],
   "source": [
    "binary_df = pd.DataFrame(lists)\n",
    "input_pats = binary_df.iloc[:,:ncuisines+nattributes]\n",
    "input_pats = torch.tensor(np.array(input_pats),dtype=torch.float)\n",
    "output_pats = binary_df.iloc[:,ncuisines+nattributes:]\n",
    "output_pats = torch.tensor(np.array(output_pats),dtype=torch.float)\n",
    "N = input_pats.shape[0] # number of training patterns\n",
    "input_v = input_pats[0,:].numpy().astype('bool')\n",
    "output_v = output_pats[0,:].numpy().astype('bool')"
   ]
  },
  {
   "cell_type": "code",
   "execution_count": 65,
   "metadata": {},
   "outputs": [],
   "source": [
    "output_shape = output_pats.shape[1]"
   ]
  },
  {
   "cell_type": "code",
   "execution_count": 66,
   "metadata": {},
   "outputs": [],
   "source": [
    "class Net(nn.Module):\n",
    "    def __init__(self, rep_size, hidden_size):\n",
    "        super(Net, self).__init__()\n",
    "        # Input\n",
    "        #  rep_size : number of hidden units in \"Representation Layer\"\n",
    "        #  hidden_Size : number of hidden units in \"Hidden Layer\"\n",
    "        #\n",
    "        # TODO : YOUR CODE GOES HERE    \n",
    "        \n",
    "        self.i2r = nn.Linear(ncuisines+nattributes, rep_size)\n",
    "        self.r2h = nn.Linear(rep_size, hidden_size)\n",
    "        self.h2o = nn.Linear(hidden_size, output_shape)\n",
    "        #raise Exception('Replace with your code.')\n",
    "\n",
    "    def forward(self, x):\n",
    "        # Defines forward pass for the network on input patterns x\n",
    "        #\n",
    "        # Input can take these two forms:\n",
    "        #\n",
    "        #   x: [nobj+nrel 1D Tensor], which is a single input pattern as a 1D tensor\n",
    "        #      (containing both object and relation 1-hot identifier) (batch size is B=1)\n",
    "        #   OR\n",
    "        #   x : [B x (nobj+nrel) Tensor], which is a batch of B input patterns (one for each row)\n",
    "        #\n",
    "        # Output\n",
    "        #   output [B x nattribute Tensor], which is the output pattern for each input pattern B on the Attribute Layer\n",
    "        #   hidden [B x hidden_size Tensor], which are activations in the Hidden Layer\n",
    "        #   rep [B x rep_size Tensor], which are the activations in the Representation LAyer\n",
    "        x = x.view(-1,ncuisines+nattributes) # reshape as size [B x (nobj+nrel) Tensor] if B=1\n",
    "        x_item = x[:,:ncuisines+nattributes] # input to Item Layer [B x nobj Tensor]\n",
    "#         print(\"x item shape \"+ str(x_item.shape))\n",
    "        #x_rel = x[:,ncuisines:] # input to Relation Layer [B x nrel Tensor]\n",
    "        # TODO : YOUR CODE GOES HERE\n",
    "        \n",
    "        rep = self.i2r(x_item)\n",
    "        rep = relu(rep)\n",
    "        #combined = torch.cat((rep, x_rel),1)\n",
    "        hidden = self.r2h(rep)\n",
    "        hidden = relu(hidden)\n",
    "        output = self.h2o(hidden)\n",
    "        output = sigmoid(output)\n",
    "        #raise Exception('Replace with your code.')\n",
    "\n",
    "        return output, hidden, rep"
   ]
  },
  {
   "cell_type": "code",
   "execution_count": 67,
   "metadata": {},
   "outputs": [],
   "source": [
    "def train(mynet,epoch_count,nepochs_additional=5000):\n",
    "    # Input\n",
    "    #  mynet : Net class object\n",
    "    #  epoch_count : (scalar) how many epochs have been completed so far\n",
    "    #  nepochs_additional : (scalar) how many more epochs we want to run\n",
    "    mynet.train()\n",
    "    for e in range(nepochs_additional): # for each epoch\n",
    "        error_epoch = 0.\n",
    "        perm = np.random.permutation(N)\n",
    "        for p in perm: # iterate through input patterns in random order\n",
    "            mynet.zero_grad() # reset gradient\n",
    "            output, hidden, rep = mynet(input_pats[p,:]) # forward pass\n",
    "            target = output_pats[p,:] \n",
    "    \n",
    "            loss = criterion(output, target) # compute loss\n",
    "            \n",
    "            loss.backward() # compute gradient \n",
    "            optimizer.step() # update network parameters\n",
    "            error_epoch += loss.item()\n",
    "        error_epoch = error_epoch / float(N)        \n",
    "        if e % 50 == 0:\n",
    "            print('epoch ' + str(epoch_count+e) + ' loss ' + str(round(error_epoch,3)))\n",
    "    return epoch_count + nepochs_additional"
   ]
  },
  {
   "cell_type": "code",
   "execution_count": 140,
   "metadata": {},
   "outputs": [],
   "source": [
    "def get_rep(net):\n",
    "    # Extract the hidden activations on the Representation Layer for each item\n",
    "    # \n",
    "    # Input\n",
    "    #  net : Net class object\n",
    "    #\n",
    "    # Output\n",
    "    #  rep : [nitem x rep_size numpy array], where each row is an item\n",
    "    input_clean = torch.zeros(26,26)\n",
    "    for idx,name in enumerate(item_names):\n",
    "        input_clean[idx,idx] = 1. # 1-hot encoding of each object (while Relation Layer doesn't matter)\n",
    "    output, hidden, rep = mynet(input_clean)\n",
    "    return rep.detach().numpy()\n",
    "\n",
    "def plot_rep(rep1, rep2, rep3, names):\n",
    "    #  Compares Representation Layer activations of Items at three different times points in learning (rep1, rep2, rep3)\n",
    "    #  using bar graphs\n",
    "    # \n",
    "    #  Each rep1, rep2, rep3 is a [nitem x rep_size numpy array]\n",
    "    #  names : [nitem list] of item names\n",
    "    #\n",
    "    nepochs_list = [nepochs_phase1, nepochs_phase2, nepochs_phase3]\n",
    "\n",
    "    nrows = 26\n",
    "    R = np.dstack((rep1, rep2, rep3))    \n",
    "    mx = R.max()\n",
    "    mn = R.min()\n",
    "    depth = R.shape[2]\n",
    "    count = 1\n",
    "    plt.figure(1,figsize=(4.2,8.4))\n",
    "    for i in range(nrows):\n",
    "        for d in range(R.shape[2]):\n",
    "            plt.subplot(nrows, depth, count)\n",
    "            rep = R[i,:,d]\n",
    "            plt.bar(range(rep.size),rep)\n",
    "            plt.ylim([mn,mx])\n",
    "            plt.xticks([])\n",
    "            plt.yticks([])        \n",
    "            if d==0:\n",
    "                plt.ylabel(names[i])\n",
    "            if i==0:\n",
    "                plt.title(\"epoch \" + str(nepochs_list[d]))\n",
    "            count += 1\n",
    "    plt.show()\n",
    "\n",
    "def plot_dendo(rep1, rep2, rep3, names, x_rotation = 0):\n",
    "    #  Compares Representation Layer activations of Items at three different times points in learning (rep1, rep2, rep3)\n",
    "    #  using hierarchical clustering\n",
    "    # \n",
    "    #  Each rep1, rep2, rep3 is a [nitem x rep_size numpy array]\n",
    "    #  names : [nitem list] of item names\n",
    "    #\n",
    "    nepochs_list = [nepochs_phase1, nepochs_phase2, nepochs_phase3]\n",
    "    linked1 = linkage(rep1,'single')\n",
    "    linked2 = linkage(rep2,'single')\n",
    "    linked3 = linkage(rep3,'single')\n",
    "    mx = np.dstack((linked1[:,2], linked2[:,2], linked3[:,2])).max()+0.1    \n",
    "    plt.figure(2,figsize=(20, 40))\n",
    "#     plt.subplot(3,1,1)    \n",
    "#     dendrogram(linked1, labels = names, color_threshold = 0)\n",
    "#     plt.ylim([0,mx])\n",
    "#     plt.title('Hierarchical clustering; ' + \"epoch \" + str(nepochs_list[0]))\n",
    "#     plt.ylabel('Euclidean distance')\n",
    "#     plt.subplot(3,1,2)\n",
    "#     plt.title(\"epoch \" + str(nepochs_list[1]))\n",
    "#     dendrogram(linked2, labels=names, color_threshold=0)\n",
    "#     plt.ylim([0,mx])\n",
    "    plt.subplot(3,1,3)\n",
    "    plt.title(\"epoch \" + str(nepochs_list[2]))\n",
    "    dendrogram(linked3, labels = names, color_threshold = 0)\n",
    "    plt.xticks(rotation = x_rotation)\n",
    "    plt.show()"
   ]
  },
  {
   "cell_type": "code",
   "execution_count": 69,
   "metadata": {
    "scrolled": false
   },
   "outputs": [
    {
     "name": "stderr",
     "output_type": "stream",
     "text": [
      "/anaconda3/lib/python3.6/site-packages/torch/nn/functional.py:1332: UserWarning: nn.functional.sigmoid is deprecated. Use torch.sigmoid instead.\n",
      "  warnings.warn(\"nn.functional.sigmoid is deprecated. Use torch.sigmoid instead.\")\n"
     ]
    },
    {
     "name": "stdout",
     "output_type": "stream",
     "text": [
      "epoch 0 loss 0.225\n",
      "epoch 50 loss 0.027\n",
      "epoch 100 loss 0.027\n",
      "epoch 150 loss 0.027\n",
      "epoch 200 loss 0.026\n",
      "epoch 250 loss 0.026\n",
      "epoch 300 loss 0.026\n",
      "epoch 350 loss 0.026\n",
      "epoch 400 loss 0.025\n",
      "epoch 450 loss 0.025\n",
      "epoch 500 loss 0.025\n",
      "epoch 550 loss 0.024\n",
      "epoch 600 loss 0.024\n",
      "epoch 650 loss 0.024\n",
      "epoch 700 loss 0.024\n",
      "epoch 750 loss 0.024\n",
      "epoch 800 loss 0.024\n",
      "epoch 850 loss 0.023\n",
      "epoch 900 loss 0.023\n",
      "epoch 950 loss 0.023\n",
      "epoch 1000 loss 0.023\n",
      "epoch 1050 loss 0.022\n",
      "epoch 1100 loss 0.022\n",
      "epoch 1150 loss 0.022\n",
      "epoch 1200 loss 0.022\n",
      "epoch 1250 loss 0.022\n",
      "epoch 1300 loss 0.022\n",
      "epoch 1350 loss 0.021\n",
      "epoch 1400 loss 0.021\n",
      "epoch 1450 loss 0.021\n",
      "epoch 1500 loss 0.021\n",
      "epoch 1550 loss 0.021\n",
      "epoch 1600 loss 0.021\n",
      "epoch 1650 loss 0.021\n",
      "epoch 1700 loss 0.021\n",
      "epoch 1750 loss 0.021\n",
      "epoch 1800 loss 0.021\n",
      "epoch 1850 loss 0.02\n",
      "epoch 1900 loss 0.02\n",
      "epoch 1950 loss 0.02\n",
      "epoch 2000 loss 0.02\n",
      "epoch 2050 loss 0.02\n",
      "epoch 2100 loss 0.02\n",
      "epoch 2150 loss 0.02\n",
      "epoch 2200 loss 0.02\n",
      "epoch 2250 loss 0.02\n",
      "epoch 2300 loss 0.02\n",
      "epoch 2350 loss 0.02\n",
      "epoch 2400 loss 0.02\n",
      "epoch 2450 loss 0.02\n"
     ]
    }
   ],
   "source": [
    "learning_rate = 0.1\n",
    "criterion = nn.MSELoss() # mean squared error loss function\n",
    "mynet = Net(rep_size=8,hidden_size=15)\n",
    "optimizer = torch.optim.SGD(mynet.parameters(), lr=learning_rate) # stochastic gradient descent\n",
    "\n",
    "nepochs_phase1 = 500\n",
    "nepochs_phase2 = 1000\n",
    "nepochs_phase3 = 2500\n",
    "epoch_count = 0\n",
    "epoch_count = train(mynet, epoch_count, nepochs_additional = nepochs_phase1)\n",
    "# rep1 = get_rep(mynet)\n",
    "epoch_count = train(mynet, epoch_count, nepochs_additional = nepochs_phase2-nepochs_phase1)\n",
    "# rep2 = get_rep(mynet)\n",
    "epoch_count = train(mynet, epoch_count, nepochs_additional = nepochs_phase3-nepochs_phase2)\n",
    "# rep3 = get_rep(mynet)\n"
   ]
  },
  {
   "cell_type": "code",
   "execution_count": 101,
   "metadata": {},
   "outputs": [
    {
     "name": "stderr",
     "output_type": "stream",
     "text": [
      "/anaconda3/lib/python3.6/site-packages/torch/nn/functional.py:1332: UserWarning: nn.functional.sigmoid is deprecated. Use torch.sigmoid instead.\n",
      "  warnings.warn(\"nn.functional.sigmoid is deprecated. Use torch.sigmoid instead.\")\n"
     ]
    }
   ],
   "source": [
    "rep1 = get_rep(mynet)\n",
    "rep2 = get_rep(mynet)\n",
    "rep3 = get_rep(mynet)"
   ]
  },
  {
   "cell_type": "code",
   "execution_count": 128,
   "metadata": {},
   "outputs": [
    {
     "data": {
      "text/plain": [
       "(20, 8)"
      ]
     },
     "execution_count": 128,
     "metadata": {},
     "output_type": "execute_result"
    }
   ],
   "source": [
    "rep1[:20].shape"
   ]
  },
  {
   "cell_type": "code",
   "execution_count": 141,
   "metadata": {
    "scrolled": false
   },
   "outputs": [
    {
     "data": {
      "image/png": "[encoded data removed]",
      "text/plain": [
       "<Figure size 1440x2880 with 1 Axes>"
      ]
     },
     "metadata": {},
     "output_type": "display_data"
    }
   ],
   "source": [
    "plot_dendo(rep1[:20], rep2[:20], rep3[:20], cuisine_names, x_rotation = 90)"
   ]
  },
  {
   "cell_type": "code",
   "execution_count": 142,
   "metadata": {},
   "outputs": [
    {
     "data": {
      "image/png": "[encoded data removed]",
      "text/plain": [
       "<Figure size 1440x2880 with 1 Axes>"
      ]
     },
     "metadata": {},
     "output_type": "display_data"
    }
   ],
   "source": [
    "plot_dendo(rep1[20:], rep2[20:], rep3[20:], descriptor_names)"
   ]
  },
  {
   "cell_type": "code",
   "execution_count": 145,
   "metadata": {},
   "outputs": [
    {
     "data": {
      "text/plain": [
       "array(['indian'], dtype=object)"
      ]
     },
     "execution_count": 145,
     "metadata": {},
     "output_type": "execute_result"
    }
   ],
   "source": [
    "cuisine_names[5]"
   ]
  },
  {
   "cell_type": "code",
   "execution_count": 160,
   "metadata": {},
   "outputs": [
    {
     "data": {
      "image/png": "[encoded data removed]",
      "text/plain": [
       "<Figure size 1440x2880 with 1 Axes>"
      ]
     },
     "metadata": {},
     "output_type": "display_data"
    }
   ],
   "source": [
    "plot_dendo(rep1[[5, 20, 21, 22, 23, 24, 25], :], \n",
    "           rep2[[5, 20, 21, 22, 23, 24, 25], :], \n",
    "           rep3[[5, 20, 21, 22, 23, 24, 25], :], np.append(cuisine_names[5], descriptor_names))\n",
    "\n"
   ]
  },
  {
   "cell_type": "code",
   "execution_count": 162,
   "metadata": {},
   "outputs": [
    {
     "data": {
      "image/png": "[encoded data removed]",
      "text/plain": [
       "<Figure size 1440x2880 with 1 Axes>"
      ]
     },
     "metadata": {},
     "output_type": "display_data"
    }
   ],
   "source": [
    "plot_dendo(rep1[[7, 20, 21, 22, 23, 24, 25], :], \n",
    "           rep2[[7, 20, 21, 22, 23, 24, 25], :], \n",
    "           rep3[[7, 20, 21, 22, 23, 24, 25], :], np.append(cuisine_names[7], descriptor_names))\n",
    "\n"
   ]
  },
  {
   "cell_type": "code",
   "execution_count": null,
   "metadata": {},
   "outputs": [],
   "source": []
  }
 ],
 "metadata": {
  "kernelspec": {
   "display_name": "Python 3",
   "language": "python",
   "name": "python3"
  },
  "language_info": {
   "codemirror_mode": {
    "name": "ipython",
    "version": 3
   },
   "file_extension": ".py",
   "mimetype": "text/x-python",
   "name": "python",
   "nbconvert_exporter": "python",
   "pygments_lexer": "ipython3",
   "version": "3.6.5"
  }
 },
 "nbformat": 4,
 "nbformat_minor": 2
}
