{
 "cells": [
  {
   "cell_type": "code",
   "execution_count": 5,
   "metadata": {},
   "outputs": [],
   "source": [
    "import pandas as pd\n",
    "from ast import literal_eval"
   ]
  },
  {
   "cell_type": "code",
   "execution_count": 6,
   "metadata": {},
   "outputs": [],
   "source": [
    "df = pd.read_csv('labeled_recipes.csv')"
   ]
  },
  {
   "cell_type": "code",
   "execution_count": 7,
   "metadata": {},
   "outputs": [],
   "source": [
    "df = df.dropna()\n",
    "df = df.drop(columns=['Unnamed: 0'])\n",
    "df = df.rename(columns={'cuisine': 'Cuisine', 'id': 'ID', 'ingredients': 'Ingredients'})\n",
    "new = df['Ingredients'].apply(literal_eval)\n",
    "total = []\n",
    "for i in new:\n",
    "    for j in i:\n",
    "        total.append(j)\n",
    "ingredients = set(total)\n",
    "for i in ingredients:\n",
    "    df[str(i)] = 0.0\n",
    "updated = pd.DataFrame(columns=df.columns)\n",
    "for i in df.iterrows():\n",
    "    series = i[1]\n",
    "    for j in literal_eval(i[1]['Ingredients']):\n",
    "        if j in series.keys().tolist():\n",
    "            series[j] = 1\n",
    "    updated = updated.append(series, ignore_index=True)"
   ]
  },
  {
   "cell_type": "code",
   "execution_count": 8,
   "metadata": {},
   "outputs": [],
   "source": [
    "updated.to_csv('featurized.csv')"
   ]
  }
 ],
 "metadata": {
  "kernelspec": {
   "display_name": "Python 3",
   "language": "python",
   "name": "python3"
  },
  "language_info": {
   "codemirror_mode": {
    "name": "ipython",
    "version": 3
   },
   "file_extension": ".py",
   "mimetype": "text/x-python",
   "name": "python",
   "nbconvert_exporter": "python",
   "pygments_lexer": "ipython3",
   "version": "3.7.1"
  }
 },
 "nbformat": 4,
 "nbformat_minor": 2
}
